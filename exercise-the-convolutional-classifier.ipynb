{
 "cells": [
  {
   "cell_type": "markdown",
   "id": "f3817165",
   "metadata": {
    "papermill": {
     "duration": 0.008136,
     "end_time": "2024-10-16T19:03:58.654209",
     "exception": false,
     "start_time": "2024-10-16T19:03:58.646073",
     "status": "completed"
    },
    "tags": []
   },
   "source": [
    "**This notebook is an exercise in the [Computer Vision](https://www.kaggle.com/learn/computer-vision) course.  You can reference the tutorial at [this link](https://www.kaggle.com/ryanholbrook/the-convolutional-classifier).**\n",
    "\n",
    "---\n"
   ]
  },
  {
   "cell_type": "markdown",
   "id": "fd977c90",
   "metadata": {
    "papermill": {
     "duration": 0.007452,
     "end_time": "2024-10-16T19:03:58.669961",
     "exception": false,
     "start_time": "2024-10-16T19:03:58.662509",
     "status": "completed"
    },
    "tags": []
   },
   "source": [
    "<blockquote style=\"margin-right:auto; margin-left:auto; padding: 1em; margin:24px;\">\n",
    "    <strong>Accelerate Training with a Kaggle GPU!</strong><br>\n",
    "Did you know Kaggle offers free time with a GPU accelerator? You can speed up training neural networks in this course by switching to <strong>GPU</strong> in the <em>Accelerator</em> option on the right. (It may already be turned on.) Two things to be aware of:\n",
    "<ul>\n",
    "<li>Changing the <em>Accelerator</em> option will cause the notebook session to restart. You'll need to rerun any setup code.\n",
    "<li>You can have only one GPU session at a time, so be sure to shut the notebook down after you've finished the exercise.\n",
    "</ul>\n",
    "</blockquote>"
   ]
  },
  {
   "cell_type": "markdown",
   "id": "ce419149",
   "metadata": {
    "papermill": {
     "duration": 0.006963,
     "end_time": "2024-10-16T19:03:58.684380",
     "exception": false,
     "start_time": "2024-10-16T19:03:58.677417",
     "status": "completed"
    },
    "tags": []
   },
   "source": [
    "# Introduction #\n",
    "\n",
    "In the tutorial, we saw how to build an image classifier by attaching a head of dense layers to a pretrained base. The base we used was from a model called **VGG16**. We saw that the VGG16 architecture was prone to overfitting this dataset. Over this course, you'll learn a number of ways you can improve upon this initial attempt.\n",
    "\n",
    "The first way you'll see is to use a base more appropriate to the dataset. The base this model comes from is called **InceptionV1** (also known as GoogLeNet). InceptionV1 was one of the early winners of the ImageNet competition. One of its successors, InceptionV4, is among the state of the art today.\n",
    "\n",
    "To get started, run the code cell below to set everything up."
   ]
  },
  {
   "cell_type": "code",
   "execution_count": 1,
   "id": "0b235dcb",
   "metadata": {
    "execution": {
     "iopub.execute_input": "2024-10-16T19:03:58.700818Z",
     "iopub.status.busy": "2024-10-16T19:03:58.700390Z",
     "iopub.status.idle": "2024-10-16T19:04:29.257280Z",
     "shell.execute_reply": "2024-10-16T19:04:29.255993Z"
    },
    "lines_to_next_cell": 2,
    "papermill": {
     "duration": 30.568612,
     "end_time": "2024-10-16T19:04:29.260286",
     "exception": false,
     "start_time": "2024-10-16T19:03:58.691674",
     "status": "completed"
    },
    "tags": []
   },
   "outputs": [
    {
     "name": "stderr",
     "output_type": "stream",
     "text": [
      "2024-10-16 19:04:03.154954: E external/local_xla/xla/stream_executor/cuda/cuda_dnn.cc:9261] Unable to register cuDNN factory: Attempting to register factory for plugin cuDNN when one has already been registered\n",
      "2024-10-16 19:04:03.155153: E external/local_xla/xla/stream_executor/cuda/cuda_fft.cc:607] Unable to register cuFFT factory: Attempting to register factory for plugin cuFFT when one has already been registered\n",
      "2024-10-16 19:04:03.405157: E external/local_xla/xla/stream_executor/cuda/cuda_blas.cc:1515] Unable to register cuBLAS factory: Attempting to register factory for plugin cuBLAS when one has already been registered\n"
     ]
    },
    {
     "name": "stdout",
     "output_type": "stream",
     "text": [
      "Found 5117 files belonging to 2 classes.\n",
      "Found 5051 files belonging to 2 classes.\n"
     ]
    }
   ],
   "source": [
    "# Setup feedback system\n",
    "from learntools.core import binder\n",
    "binder.bind(globals())\n",
    "from learntools.computer_vision.ex1 import *\n",
    "\n",
    "# Imports\n",
    "import os, warnings\n",
    "import matplotlib.pyplot as plt\n",
    "from matplotlib import gridspec\n",
    "\n",
    "import numpy as np\n",
    "import tensorflow as tf\n",
    "from tensorflow.keras.preprocessing import image_dataset_from_directory\n",
    "\n",
    "# Reproducability\n",
    "def set_seed(seed=31415):\n",
    "    np.random.seed(seed)\n",
    "    tf.random.set_seed(seed)\n",
    "    os.environ['PYTHONHASHSEED'] = str(seed)\n",
    "    os.environ['TF_DETERMINISTIC_OPS'] = '1'\n",
    "set_seed()\n",
    "\n",
    "# Set Matplotlib defaults\n",
    "plt.rc('figure', autolayout=True)\n",
    "plt.rc('axes', labelweight='bold', labelsize='large',\n",
    "       titleweight='bold', titlesize=18, titlepad=10)\n",
    "plt.rc('image', cmap='magma')\n",
    "warnings.filterwarnings(\"ignore\") # to clean up output cells\n",
    "\n",
    "\n",
    "# Load training and validation sets\n",
    "ds_train_ = image_dataset_from_directory(\n",
    "    '../input/car-or-truck/train',\n",
    "    labels='inferred',\n",
    "    label_mode='binary',\n",
    "    image_size=[128, 128],\n",
    "    interpolation='nearest',\n",
    "    batch_size=64,\n",
    "    shuffle=True,\n",
    ")\n",
    "ds_valid_ = image_dataset_from_directory(\n",
    "    '../input/car-or-truck/valid',\n",
    "    labels='inferred',\n",
    "    label_mode='binary',\n",
    "    image_size=[128, 128],\n",
    "    interpolation='nearest',\n",
    "    batch_size=64,\n",
    "    shuffle=False,\n",
    ")\n",
    "\n",
    "# Data Pipeline\n",
    "def convert_to_float(image, label):\n",
    "    image = tf.image.convert_image_dtype(image, dtype=tf.float32)\n",
    "    return image, label\n",
    "\n",
    "AUTOTUNE = tf.data.experimental.AUTOTUNE\n",
    "ds_train = (\n",
    "    ds_train_\n",
    "    .map(convert_to_float)\n",
    "    .cache()\n",
    "    .prefetch(buffer_size=AUTOTUNE)\n",
    ")\n",
    "ds_valid = (\n",
    "    ds_valid_\n",
    "    .map(convert_to_float)\n",
    "    .cache()\n",
    "    .prefetch(buffer_size=AUTOTUNE)\n",
    ")\n"
   ]
  },
  {
   "cell_type": "markdown",
   "id": "83f59f26",
   "metadata": {
    "papermill": {
     "duration": 0.007333,
     "end_time": "2024-10-16T19:04:29.275347",
     "exception": false,
     "start_time": "2024-10-16T19:04:29.268014",
     "status": "completed"
    },
    "tags": []
   },
   "source": [
    "The **InceptionV1** model pretrained on ImageNet is available in the [TensorFlow Hub](https://www.tensorflow.org/hub/) repository, but we'll load it from a local copy. Run this cell to load InceptionV1 for your base."
   ]
  },
  {
   "cell_type": "code",
   "execution_count": 2,
   "id": "80716315",
   "metadata": {
    "execution": {
     "iopub.execute_input": "2024-10-16T19:04:29.293229Z",
     "iopub.status.busy": "2024-10-16T19:04:29.292758Z",
     "iopub.status.idle": "2024-10-16T19:04:34.336303Z",
     "shell.execute_reply": "2024-10-16T19:04:34.335167Z"
    },
    "lines_to_next_cell": 0,
    "papermill": {
     "duration": 5.066655,
     "end_time": "2024-10-16T19:04:34.350405",
     "exception": false,
     "start_time": "2024-10-16T19:04:29.283750",
     "status": "completed"
    },
    "tags": []
   },
   "outputs": [],
   "source": [
    "import tensorflow_hub as hub\n",
    "\n",
    "pretrained_base = tf.keras.models.load_model(\n",
    "    '../input/cv-course-models/cv-course-models/inceptionv1'\n",
    ")"
   ]
  },
  {
   "cell_type": "markdown",
   "id": "421552db",
   "metadata": {
    "papermill": {
     "duration": 0.0078,
     "end_time": "2024-10-16T19:04:34.368026",
     "exception": false,
     "start_time": "2024-10-16T19:04:34.360226",
     "status": "completed"
    },
    "tags": []
   },
   "source": [
    "# 1) Define Pretrained Base #\n",
    "\n",
    "Now that you have a pretrained base to do our feature extraction, decide whether this base should be trainable or not."
   ]
  },
  {
   "cell_type": "code",
   "execution_count": 3,
   "id": "22aa19fc",
   "metadata": {
    "execution": {
     "iopub.execute_input": "2024-10-16T19:04:34.387858Z",
     "iopub.status.busy": "2024-10-16T19:04:34.386784Z",
     "iopub.status.idle": "2024-10-16T19:04:34.398784Z",
     "shell.execute_reply": "2024-10-16T19:04:34.397359Z"
    },
    "lines_to_next_cell": 0,
    "papermill": {
     "duration": 0.023707,
     "end_time": "2024-10-16T19:04:34.401292",
     "exception": false,
     "start_time": "2024-10-16T19:04:34.377585",
     "status": "completed"
    },
    "tags": []
   },
   "outputs": [
    {
     "data": {
      "application/javascript": [
       "parent.postMessage({\"jupyterEvent\": \"custom.exercise_interaction\", \"data\": {\"outcomeType\": 1, \"valueTowardsCompletion\": 0.25, \"interactionType\": 1, \"questionType\": 2, \"questionId\": \"1_Q1\", \"learnToolsVersion\": \"0.3.4\", \"failureMessage\": \"\", \"exceptionClass\": \"\", \"trace\": \"\"}}, \"*\")"
      ],
      "text/plain": [
       "<IPython.core.display.Javascript object>"
      ]
     },
     "metadata": {},
     "output_type": "display_data"
    },
    {
     "data": {
      "text/markdown": [
       "<span style=\"color:#33cc33\">Correct:</span> When doing transfer learning, it's generally not a good idea to retrain the entire base -- at least not without some care. The reason is that the random weights in the head will initially create large gradient updates, which propogate back into the base layers and destroy much of the pretraining. Using techniques known as **fine tuning** it's possible to further train the base on new data, but this requires some care to do well."
      ],
      "text/plain": [
       "Correct: When doing transfer learning, it's generally not a good idea to retrain the entire base -- at least not without some care. The reason is that the random weights in the head will initially create large gradient updates, which propogate back into the base layers and destroy much of the pretraining. Using techniques known as **fine tuning** it's possible to further train the base on new data, but this requires some care to do well."
      ]
     },
     "metadata": {},
     "output_type": "display_data"
    }
   ],
   "source": [
    "# YOUR_CODE_HERE\n",
    "pretrained_base.trainable = False\n",
    "\n",
    "# Check your answer\n",
    "q_1.check()"
   ]
  },
  {
   "cell_type": "code",
   "execution_count": 4,
   "id": "63507b6c",
   "metadata": {
    "execution": {
     "iopub.execute_input": "2024-10-16T19:04:34.419849Z",
     "iopub.status.busy": "2024-10-16T19:04:34.419445Z",
     "iopub.status.idle": "2024-10-16T19:04:34.424335Z",
     "shell.execute_reply": "2024-10-16T19:04:34.423173Z"
    },
    "papermill": {
     "duration": 0.017763,
     "end_time": "2024-10-16T19:04:34.427288",
     "exception": false,
     "start_time": "2024-10-16T19:04:34.409525",
     "status": "completed"
    },
    "tags": []
   },
   "outputs": [],
   "source": [
    "# Lines below will give you a hint or solution code\n",
    "#q_1.hint()\n",
    "#q_1.solution()"
   ]
  },
  {
   "cell_type": "markdown",
   "id": "4f3e75e5",
   "metadata": {
    "papermill": {
     "duration": 0.008827,
     "end_time": "2024-10-16T19:04:34.444191",
     "exception": false,
     "start_time": "2024-10-16T19:04:34.435364",
     "status": "completed"
    },
    "tags": []
   },
   "source": [
    "# 2) Attach Head #\n",
    "\n",
    "Now that the base is defined to do the feature extraction, create a head of `Dense` layers to perform the classification, following this diagram:\n",
    "\n",
    "<figure>\n",
    "<img src=\"https://storage.googleapis.com/kaggle-media/learn/images/i5VU7Ry.png\" alt=\"Diagram of the dense head.\">\n",
    "</figure>\n"
   ]
  },
  {
   "cell_type": "code",
   "execution_count": 5,
   "id": "22004493",
   "metadata": {
    "execution": {
     "iopub.execute_input": "2024-10-16T19:04:34.462972Z",
     "iopub.status.busy": "2024-10-16T19:04:34.462492Z",
     "iopub.status.idle": "2024-10-16T19:04:34.488498Z",
     "shell.execute_reply": "2024-10-16T19:04:34.487320Z"
    },
    "lines_to_next_cell": 0,
    "papermill": {
     "duration": 0.038235,
     "end_time": "2024-10-16T19:04:34.491234",
     "exception": false,
     "start_time": "2024-10-16T19:04:34.452999",
     "status": "completed"
    },
    "tags": []
   },
   "outputs": [
    {
     "data": {
      "application/javascript": [
       "parent.postMessage({\"jupyterEvent\": \"custom.exercise_interaction\", \"data\": {\"outcomeType\": 1, \"valueTowardsCompletion\": 0.25, \"interactionType\": 1, \"questionType\": 2, \"questionId\": \"2_Q2\", \"learnToolsVersion\": \"0.3.4\", \"failureMessage\": \"\", \"exceptionClass\": \"\", \"trace\": \"\"}}, \"*\")"
      ],
      "text/plain": [
       "<IPython.core.display.Javascript object>"
      ]
     },
     "metadata": {},
     "output_type": "display_data"
    },
    {
     "data": {
      "text/markdown": [
       "<span style=\"color:#33cc33\">Correct</span>"
      ],
      "text/plain": [
       "Correct"
      ]
     },
     "metadata": {},
     "output_type": "display_data"
    }
   ],
   "source": [
    "from tensorflow import keras\n",
    "from tensorflow.keras import layers\n",
    "\n",
    "model = keras.Sequential([\n",
    "    pretrained_base,\n",
    "    layers.Flatten(),\n",
    "    layers.Dense(6, activation='relu'),\n",
    "    layers.Dense(1, activation='sigmoid'),\n",
    "])\n",
    "\n",
    "# Check your answer\n",
    "q_2.check()"
   ]
  },
  {
   "cell_type": "code",
   "execution_count": 6,
   "id": "629dbba1",
   "metadata": {
    "execution": {
     "iopub.execute_input": "2024-10-16T19:04:34.510292Z",
     "iopub.status.busy": "2024-10-16T19:04:34.509859Z",
     "iopub.status.idle": "2024-10-16T19:04:34.515317Z",
     "shell.execute_reply": "2024-10-16T19:04:34.514080Z"
    },
    "papermill": {
     "duration": 0.018002,
     "end_time": "2024-10-16T19:04:34.517955",
     "exception": false,
     "start_time": "2024-10-16T19:04:34.499953",
     "status": "completed"
    },
    "tags": []
   },
   "outputs": [],
   "source": [
    "# Lines below will give you a hint or solution code\n",
    "#q_2.hint()\n",
    "#q_2.solution()"
   ]
  },
  {
   "cell_type": "markdown",
   "id": "133881fd",
   "metadata": {
    "papermill": {
     "duration": 0.008088,
     "end_time": "2024-10-16T19:04:34.534415",
     "exception": false,
     "start_time": "2024-10-16T19:04:34.526327",
     "status": "completed"
    },
    "tags": []
   },
   "source": [
    "# 3) Train #\n",
    "\n",
    "Before training a model in Keras, you need to specify an *optimizer* to perform the gradient descent, a *loss function* to be minimized, and (optionally) any *performance metrics*. The optimization algorithm we'll use for this course is called [\"Adam\"](https://keras.io/api/optimizers/adam/), which generally performs well regardless of what kind of problem you're trying to solve.\n",
    "\n",
    "The loss and the metrics, however, need to match the kind of problem you're trying to solve. Our problem is a **binary classification** problem: `Car` coded as 0, and `Truck` coded as 1. Choose an appropriate loss and an appropriate accuracy metric for binary classification."
   ]
  },
  {
   "cell_type": "code",
   "execution_count": 7,
   "id": "e84051fc",
   "metadata": {
    "execution": {
     "iopub.execute_input": "2024-10-16T19:04:34.552834Z",
     "iopub.status.busy": "2024-10-16T19:04:34.552409Z",
     "iopub.status.idle": "2024-10-16T19:04:34.586219Z",
     "shell.execute_reply": "2024-10-16T19:04:34.584963Z"
    },
    "lines_to_next_cell": 0,
    "papermill": {
     "duration": 0.045891,
     "end_time": "2024-10-16T19:04:34.588621",
     "exception": false,
     "start_time": "2024-10-16T19:04:34.542730",
     "status": "completed"
    },
    "tags": []
   },
   "outputs": [
    {
     "data": {
      "application/javascript": [
       "parent.postMessage({\"jupyterEvent\": \"custom.exercise_interaction\", \"data\": {\"outcomeType\": 1, \"valueTowardsCompletion\": 0.25, \"interactionType\": 1, \"questionType\": 2, \"questionId\": \"3_Q3\", \"learnToolsVersion\": \"0.3.4\", \"failureMessage\": \"\", \"exceptionClass\": \"\", \"trace\": \"\"}}, \"*\")"
      ],
      "text/plain": [
       "<IPython.core.display.Javascript object>"
      ]
     },
     "metadata": {},
     "output_type": "display_data"
    },
    {
     "data": {
      "text/markdown": [
       "<span style=\"color:#33cc33\">Correct</span>"
      ],
      "text/plain": [
       "Correct"
      ]
     },
     "metadata": {},
     "output_type": "display_data"
    }
   ],
   "source": [
    "# YOUR CODE HERE: what loss function should you use for a binary\n",
    "# classification problem? (Your answer for each should be a string.)\n",
    "optimizer = tf.keras.optimizers.Adam(epsilon=0.01)\n",
    "model.compile(\n",
    "    optimizer='adam',\n",
    "    loss='binary_crossentropy',\n",
    "    metrics=['binary_accuracy'],\n",
    ")\n",
    "\n",
    "# Check your answer\n",
    "q_3.check()"
   ]
  },
  {
   "cell_type": "code",
   "execution_count": 8,
   "id": "453a82b8",
   "metadata": {
    "execution": {
     "iopub.execute_input": "2024-10-16T19:04:34.608043Z",
     "iopub.status.busy": "2024-10-16T19:04:34.607609Z",
     "iopub.status.idle": "2024-10-16T19:04:34.612457Z",
     "shell.execute_reply": "2024-10-16T19:04:34.611235Z"
    },
    "lines_to_next_cell": 0,
    "papermill": {
     "duration": 0.017499,
     "end_time": "2024-10-16T19:04:34.614990",
     "exception": false,
     "start_time": "2024-10-16T19:04:34.597491",
     "status": "completed"
    },
    "tags": []
   },
   "outputs": [],
   "source": [
    "# Lines below will give you a hint or solution code\n",
    "#q_3.hint()\n",
    "#q_3.solution()"
   ]
  },
  {
   "cell_type": "code",
   "execution_count": 9,
   "id": "99432f76",
   "metadata": {
    "execution": {
     "iopub.execute_input": "2024-10-16T19:04:34.635235Z",
     "iopub.status.busy": "2024-10-16T19:04:34.634803Z",
     "iopub.status.idle": "2024-10-16T20:02:42.351417Z",
     "shell.execute_reply": "2024-10-16T20:02:42.349183Z"
    },
    "papermill": {
     "duration": 3487.993017,
     "end_time": "2024-10-16T20:02:42.616773",
     "exception": false,
     "start_time": "2024-10-16T19:04:34.623756",
     "status": "completed"
    },
    "tags": []
   },
   "outputs": [
    {
     "name": "stdout",
     "output_type": "stream",
     "text": [
      "Epoch 1/30\n",
      "80/80 [==============================] - 116s 1s/step - loss: 0.5635 - binary_accuracy: 0.7315 - val_loss: 0.5068 - val_binary_accuracy: 0.7846\n",
      "Epoch 2/30\n",
      "80/80 [==============================] - 104s 1s/step - loss: 0.4948 - binary_accuracy: 0.8159 - val_loss: 0.4921 - val_binary_accuracy: 0.7998\n",
      "Epoch 3/30\n",
      "80/80 [==============================] - 106s 1s/step - loss: 0.4680 - binary_accuracy: 0.8358 - val_loss: 0.4753 - val_binary_accuracy: 0.8155\n",
      "Epoch 4/30\n",
      "80/80 [==============================] - 105s 1s/step - loss: 0.4490 - binary_accuracy: 0.8507 - val_loss: 0.4646 - val_binary_accuracy: 0.8212\n",
      "Epoch 5/30\n",
      "80/80 [==============================] - 104s 1s/step - loss: 0.4316 - binary_accuracy: 0.8589 - val_loss: 0.4546 - val_binary_accuracy: 0.8319\n",
      "Epoch 6/30\n",
      "80/80 [==============================] - 103s 1s/step - loss: 0.4173 - binary_accuracy: 0.8642 - val_loss: 0.4556 - val_binary_accuracy: 0.8280\n",
      "Epoch 7/30\n",
      "80/80 [==============================] - 101s 1s/step - loss: 0.4035 - binary_accuracy: 0.8708 - val_loss: 0.4451 - val_binary_accuracy: 0.8371\n",
      "Epoch 8/30\n",
      "80/80 [==============================] - 101s 1s/step - loss: 0.3907 - binary_accuracy: 0.8743 - val_loss: 0.4334 - val_binary_accuracy: 0.8402\n",
      "Epoch 9/30\n",
      "80/80 [==============================] - 134s 2s/step - loss: 0.3781 - binary_accuracy: 0.8827 - val_loss: 0.4303 - val_binary_accuracy: 0.8454\n",
      "Epoch 10/30\n",
      "80/80 [==============================] - 105s 1s/step - loss: 0.3667 - binary_accuracy: 0.8853 - val_loss: 0.4209 - val_binary_accuracy: 0.8446\n",
      "Epoch 11/30\n",
      "80/80 [==============================] - 103s 1s/step - loss: 0.3559 - binary_accuracy: 0.8878 - val_loss: 0.4189 - val_binary_accuracy: 0.8456\n",
      "Epoch 12/30\n",
      "80/80 [==============================] - 104s 1s/step - loss: 0.3454 - binary_accuracy: 0.8935 - val_loss: 0.4137 - val_binary_accuracy: 0.8483\n",
      "Epoch 13/30\n",
      "80/80 [==============================] - 104s 1s/step - loss: 0.3365 - binary_accuracy: 0.8954 - val_loss: 0.4161 - val_binary_accuracy: 0.8460\n",
      "Epoch 14/30\n",
      "80/80 [==============================] - 104s 1s/step - loss: 0.3272 - binary_accuracy: 0.8982 - val_loss: 0.4103 - val_binary_accuracy: 0.8501\n",
      "Epoch 15/30\n",
      "80/80 [==============================] - 103s 1s/step - loss: 0.3184 - binary_accuracy: 0.9019 - val_loss: 0.4109 - val_binary_accuracy: 0.8487\n",
      "Epoch 16/30\n",
      "80/80 [==============================] - 104s 1s/step - loss: 0.3107 - binary_accuracy: 0.9046 - val_loss: 0.4053 - val_binary_accuracy: 0.8503\n",
      "Epoch 17/30\n",
      "80/80 [==============================] - 103s 1s/step - loss: 0.3024 - binary_accuracy: 0.9074 - val_loss: 0.4054 - val_binary_accuracy: 0.8529\n",
      "Epoch 18/30\n",
      "80/80 [==============================] - 104s 1s/step - loss: 0.2968 - binary_accuracy: 0.9056 - val_loss: 0.4046 - val_binary_accuracy: 0.8535\n",
      "Epoch 19/30\n",
      "80/80 [==============================] - 105s 1s/step - loss: 0.2913 - binary_accuracy: 0.9089 - val_loss: 0.4010 - val_binary_accuracy: 0.8539\n",
      "Epoch 20/30\n",
      "80/80 [==============================] - 104s 1s/step - loss: 0.2832 - binary_accuracy: 0.9121 - val_loss: 0.4034 - val_binary_accuracy: 0.8507\n",
      "Epoch 21/30\n",
      "80/80 [==============================] - 104s 1s/step - loss: 0.2771 - binary_accuracy: 0.9150 - val_loss: 0.3965 - val_binary_accuracy: 0.8539\n",
      "Epoch 22/30\n",
      "80/80 [==============================] - 104s 1s/step - loss: 0.2704 - binary_accuracy: 0.9166 - val_loss: 0.3956 - val_binary_accuracy: 0.8531\n",
      "Epoch 23/30\n",
      "80/80 [==============================] - 104s 1s/step - loss: 0.2644 - binary_accuracy: 0.9183 - val_loss: 0.3934 - val_binary_accuracy: 0.8515\n",
      "Epoch 24/30\n",
      "80/80 [==============================] - 104s 1s/step - loss: 0.2598 - binary_accuracy: 0.9195 - val_loss: 0.3943 - val_binary_accuracy: 0.8507\n",
      "Epoch 25/30\n",
      "80/80 [==============================] - 105s 1s/step - loss: 0.2542 - binary_accuracy: 0.9195 - val_loss: 0.3965 - val_binary_accuracy: 0.8511\n",
      "Epoch 26/30\n",
      "80/80 [==============================] - 104s 1s/step - loss: 0.2489 - binary_accuracy: 0.9224 - val_loss: 0.4033 - val_binary_accuracy: 0.8493\n",
      "Epoch 27/30\n",
      "80/80 [==============================] - 106s 1s/step - loss: 0.2437 - binary_accuracy: 0.9253 - val_loss: 0.3983 - val_binary_accuracy: 0.8503\n",
      "Epoch 28/30\n",
      "80/80 [==============================] - 106s 1s/step - loss: 0.2405 - binary_accuracy: 0.9267 - val_loss: 0.4039 - val_binary_accuracy: 0.8507\n",
      "Epoch 29/30\n",
      "80/80 [==============================] - 105s 1s/step - loss: 0.2397 - binary_accuracy: 0.9269 - val_loss: 0.3971 - val_binary_accuracy: 0.8501\n",
      "Epoch 30/30\n",
      "80/80 [==============================] - 134s 2s/step - loss: 0.2394 - binary_accuracy: 0.9248 - val_loss: 0.3992 - val_binary_accuracy: 0.8515\n"
     ]
    }
   ],
   "source": [
    "history = model.fit(\n",
    "    ds_train,\n",
    "    validation_data=ds_valid,\n",
    "    epochs=30,\n",
    ")"
   ]
  },
  {
   "cell_type": "markdown",
   "id": "c97b32d8",
   "metadata": {
    "papermill": {
     "duration": 0.260379,
     "end_time": "2024-10-16T20:02:43.172866",
     "exception": false,
     "start_time": "2024-10-16T20:02:42.912487",
     "status": "completed"
    },
    "tags": []
   },
   "source": [
    "Run the cell below to plot the loss and metric curves for this training run."
   ]
  },
  {
   "cell_type": "code",
   "execution_count": 10,
   "id": "bf781b2b",
   "metadata": {
    "execution": {
     "iopub.execute_input": "2024-10-16T20:02:43.685164Z",
     "iopub.status.busy": "2024-10-16T20:02:43.684658Z",
     "iopub.status.idle": "2024-10-16T20:02:44.683767Z",
     "shell.execute_reply": "2024-10-16T20:02:44.682553Z"
    },
    "papermill": {
     "duration": 1.255266,
     "end_time": "2024-10-16T20:02:44.686332",
     "exception": false,
     "start_time": "2024-10-16T20:02:43.431066",
     "status": "completed"
    },
    "tags": []
   },
   "outputs": [
    {
     "data": {
      "image/png": "[encoded data removed]",
      "text/plain": [
       "<Figure size 640x480 with 1 Axes>"
      ]
     },
     "metadata": {},
     "output_type": "display_data"
    },
    {
     "data": {
      "image/png": "[encoded data removed]",
      "text/plain": [
       "<Figure size 640x480 with 1 Axes>"
      ]
     },
     "metadata": {},
     "output_type": "display_data"
    }
   ],
   "source": [
    "import pandas as pd\n",
    "history_frame = pd.DataFrame(history.history)\n",
    "history_frame.loc[:, ['loss', 'val_loss']].plot()\n",
    "history_frame.loc[:, ['binary_accuracy', 'val_binary_accuracy']].plot();"
   ]
  },
  {
   "cell_type": "markdown",
   "id": "71719ef0",
   "metadata": {
    "papermill": {
     "duration": 0.253579,
     "end_time": "2024-10-16T20:02:45.196288",
     "exception": false,
     "start_time": "2024-10-16T20:02:44.942709",
     "status": "completed"
    },
    "tags": []
   },
   "source": [
    "# 4) Examine Loss and Accuracy #\n",
    "\n",
    "Do you notice a difference between these learning curves and the curves for VGG16 from the tutorial? What does this difference tell you about what this model (InceptionV2) learned compared to VGG16? Are there ways in which one is better than the other? Worse?\n",
    "\n",
    "After you've thought about it, run the cell below to see the answer."
   ]
  },
  {
   "cell_type": "code",
   "execution_count": 11,
   "id": "6ab9e013",
   "metadata": {
    "execution": {
     "iopub.execute_input": "2024-10-16T20:02:45.694347Z",
     "iopub.status.busy": "2024-10-16T20:02:45.693927Z",
     "iopub.status.idle": "2024-10-16T20:02:45.704083Z",
     "shell.execute_reply": "2024-10-16T20:02:45.702966Z"
    },
    "papermill": {
     "duration": 0.26096,
     "end_time": "2024-10-16T20:02:45.706711",
     "exception": false,
     "start_time": "2024-10-16T20:02:45.445751",
     "status": "completed"
    },
    "tags": []
   },
   "outputs": [
    {
     "data": {
      "application/javascript": [
       "parent.postMessage({\"jupyterEvent\": \"custom.exercise_interaction\", \"data\": {\"outcomeType\": 1, \"valueTowardsCompletion\": 0.25, \"interactionType\": 1, \"questionType\": 4, \"questionId\": \"4_Q4\", \"learnToolsVersion\": \"0.3.4\", \"failureMessage\": \"\", \"exceptionClass\": \"\", \"trace\": \"\"}}, \"*\")"
      ],
      "text/plain": [
       "<IPython.core.display.Javascript object>"
      ]
     },
     "metadata": {},
     "output_type": "display_data"
    },
    {
     "data": {
      "text/markdown": [
       "<span style=\"color:#33cc33\">Correct:</span> \n",
       "\n",
       "That the training loss and validation loss stay fairly close is evidence that the model isn't just memorizing the training data, but rather learning general properties of the two classes. But, because this model converges at a loss greater than the VGG16 model, it's likely that it is underfitting some, and could benefit from some extra capacity.\n"
      ],
      "text/plain": [
       "Correct: \n",
       "\n",
       "That the training loss and validation loss stay fairly close is evidence that the model isn't just memorizing the training data, but rather learning general properties of the two classes. But, because this model converges at a loss greater than the VGG16 model, it's likely that it is underfitting some, and could benefit from some extra capacity."
      ]
     },
     "metadata": {},
     "output_type": "display_data"
    }
   ],
   "source": [
    "# View the solution (Run this code cell to receive credit!)\n",
    "q_4.check()"
   ]
  },
  {
   "cell_type": "markdown",
   "id": "d7f2fe19",
   "metadata": {
    "papermill": {
     "duration": 0.255996,
     "end_time": "2024-10-16T20:02:46.217678",
     "exception": false,
     "start_time": "2024-10-16T20:02:45.961682",
     "status": "completed"
    },
    "tags": []
   },
   "source": [
    "# Conclusion #\n",
    "\n",
    "In this first lesson, you learned the basics of **convolutional image classifiers**, that they consist of a **base** for extracting features from images, and a **head** which uses the features to decide the image's class. You also saw how to build a classifier with **transfer learning** on pretrained base. "
   ]
  },
  {
   "cell_type": "markdown",
   "id": "9aa5d485",
   "metadata": {
    "papermill": {
     "duration": 0.253059,
     "end_time": "2024-10-16T20:02:46.807627",
     "exception": false,
     "start_time": "2024-10-16T20:02:46.554568",
     "status": "completed"
    },
    "tags": []
   },
   "source": [
    "# Keep Going #\n",
    "\n",
    "Move on to [**Lesson 2**](https://www.kaggle.com/ryanholbrook/convolution-and-relu) for a detailed look at how the base does this feature extraction. (It's really cool!)"
   ]
  },
  {
   "cell_type": "markdown",
   "id": "4185afdb",
   "metadata": {
    "papermill": {
     "duration": 0.260989,
     "end_time": "2024-10-16T20:02:47.320819",
     "exception": false,
     "start_time": "2024-10-16T20:02:47.059830",
     "status": "completed"
    },
    "tags": []
   },
   "source": [
    "---\n",
    "\n",
    "\n",
    "\n",
    "\n",
    "*Have questions or comments? Visit the [course discussion forum](https://www.kaggle.com/learn/computer-vision/discussion) to chat with other learners.*"
   ]
  }
 ],
 "metadata": {
  "jupytext": {
   "formats": "ipynb,md",
   "split_at_heading": true
  },
  "kaggle": {
   "accelerator": "gpu",
   "dataSources": [
    {
     "datasetId": 708136,
     "sourceId": 1338830,
     "sourceType": "datasetVersion"
    },
    {
     "datasetId": 701538,
     "sourceId": 1363948,
     "sourceType": "datasetVersion"
    },
    {
     "datasetId": 878523,
     "sourceId": 1495782,
     "sourceType": "datasetVersion"
    }
   ],
   "dockerImageVersionId": 30648,
   "isGpuEnabled": true,
   "isInternetEnabled": false,
   "language": "python",
   "sourceType": "notebook"
  },
  "kernelspec": {
   "display_name": "Python 3",
   "language": "python",
   "name": "python3"
  },
  "language_info": {
   "codemirror_mode": {
    "name": "ipython",
    "version": 3
   },
   "file_extension": ".py",
   "mimetype": "text/x-python",
   "name": "python",
   "nbconvert_exporter": "python",
   "pygments_lexer": "ipython3",
   "version": "3.10.13"
  },
  "papermill": {
   "default_parameters": {},
   "duration": 3536.370085,
   "end_time": "2024-10-16T20:02:50.704591",
   "environment_variables": {},
   "exception": null,
   "input_path": "__notebook__.ipynb",
   "output_path": "__notebook__.ipynb",
   "parameters": {},
   "start_time": "2024-10-16T19:03:54.334506",
   "version": "2.5.0"
  }
 },
 "nbformat": 4,
 "nbformat_minor": 5
}
