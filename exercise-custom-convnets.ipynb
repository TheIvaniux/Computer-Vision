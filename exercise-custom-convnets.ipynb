{
 "cells": [
  {
   "cell_type": "markdown",
   "id": "5c419b9e",
   "metadata": {
    "papermill": {
     "duration": 0.004954,
     "end_time": "2024-10-16T22:49:25.405908",
     "exception": false,
     "start_time": "2024-10-16T22:49:25.400954",
     "status": "completed"
    },
    "tags": []
   },
   "source": [
    "**This notebook is an exercise in the [Computer Vision](https://www.kaggle.com/learn/computer-vision) course.  You can reference the tutorial at [this link](https://www.kaggle.com/ryanholbrook/custom-convnets).**\n",
    "\n",
    "---\n"
   ]
  },
  {
   "cell_type": "markdown",
   "id": "85cc038b",
   "metadata": {
    "papermill": {
     "duration": 0.004156,
     "end_time": "2024-10-16T22:49:25.415007",
     "exception": false,
     "start_time": "2024-10-16T22:49:25.410851",
     "status": "completed"
    },
    "tags": []
   },
   "source": [
    "# Introduction #\n",
    "\n",
    "In these exercises, you'll build a custom convnet with performance competitive to the VGG16 model from Lesson 1.\n",
    "\n",
    "Get started by running the code cell below."
   ]
  },
  {
   "cell_type": "code",
   "execution_count": 1,
   "id": "1a21e9a1",
   "metadata": {
    "execution": {
     "iopub.execute_input": "2024-10-16T22:49:25.426151Z",
     "iopub.status.busy": "2024-10-16T22:49:25.425727Z",
     "iopub.status.idle": "2024-10-16T22:49:48.374238Z",
     "shell.execute_reply": "2024-10-16T22:49:48.372898Z"
    },
    "papermill": {
     "duration": 22.957458,
     "end_time": "2024-10-16T22:49:48.376989",
     "exception": false,
     "start_time": "2024-10-16T22:49:25.419531",
     "status": "completed"
    },
    "tags": []
   },
   "outputs": [
    {
     "name": "stderr",
     "output_type": "stream",
     "text": [
      "2024-10-16 22:49:28.461929: E external/local_xla/xla/stream_executor/cuda/cuda_dnn.cc:9261] Unable to register cuDNN factory: Attempting to register factory for plugin cuDNN when one has already been registered\n",
      "2024-10-16 22:49:28.462051: E external/local_xla/xla/stream_executor/cuda/cuda_fft.cc:607] Unable to register cuFFT factory: Attempting to register factory for plugin cuFFT when one has already been registered\n",
      "2024-10-16 22:49:28.608956: E external/local_xla/xla/stream_executor/cuda/cuda_blas.cc:1515] Unable to register cuBLAS factory: Attempting to register factory for plugin cuBLAS when one has already been registered\n"
     ]
    },
    {
     "name": "stdout",
     "output_type": "stream",
     "text": [
      "Found 5117 files belonging to 2 classes.\n",
      "Found 5051 files belonging to 2 classes.\n"
     ]
    }
   ],
   "source": [
    "# Setup feedback system\n",
    "from learntools.core import binder\n",
    "binder.bind(globals())\n",
    "from learntools.computer_vision.ex5 import *\n",
    "\n",
    "# Imports\n",
    "import os, warnings\n",
    "import matplotlib.pyplot as plt\n",
    "from matplotlib import gridspec\n",
    "\n",
    "import numpy as np\n",
    "import tensorflow as tf\n",
    "from tensorflow.keras.preprocessing import image_dataset_from_directory\n",
    "\n",
    "# Reproducability\n",
    "def set_seed(seed=31415):\n",
    "    np.random.seed(seed)\n",
    "    tf.random.set_seed(seed)\n",
    "    os.environ['PYTHONHASHSEED'] = str(seed)\n",
    "    os.environ['TF_DETERMINISTIC_OPS'] = '1'\n",
    "set_seed()\n",
    "\n",
    "# Set Matplotlib defaults\n",
    "plt.rc('figure', autolayout=True)\n",
    "plt.rc('axes', labelweight='bold', labelsize='large',\n",
    "       titleweight='bold', titlesize=18, titlepad=10)\n",
    "plt.rc('image', cmap='magma')\n",
    "warnings.filterwarnings(\"ignore\") # to clean up output cells\n",
    "\n",
    "\n",
    "# Load training and validation sets\n",
    "ds_train_ = image_dataset_from_directory(\n",
    "    '../input/car-or-truck/train',\n",
    "    labels='inferred',\n",
    "    label_mode='binary',\n",
    "    image_size=[128, 128],\n",
    "    interpolation='nearest',\n",
    "    batch_size=64,\n",
    "    shuffle=True,\n",
    ")\n",
    "ds_valid_ = image_dataset_from_directory(\n",
    "    '../input/car-or-truck/valid',\n",
    "    labels='inferred',\n",
    "    label_mode='binary',\n",
    "    image_size=[128, 128],\n",
    "    interpolation='nearest',\n",
    "    batch_size=64,\n",
    "    shuffle=False,\n",
    ")\n",
    "\n",
    "# Data Pipeline\n",
    "def convert_to_float(image, label):\n",
    "    image = tf.image.convert_image_dtype(image, dtype=tf.float32)\n",
    "    return image, label\n",
    "\n",
    "AUTOTUNE = tf.data.experimental.AUTOTUNE\n",
    "ds_train = (\n",
    "    ds_train_\n",
    "    .map(convert_to_float)\n",
    "    .cache()\n",
    "    .prefetch(buffer_size=AUTOTUNE)\n",
    ")\n",
    "ds_valid = (\n",
    "    ds_valid_\n",
    "    .map(convert_to_float)\n",
    "    .cache()\n",
    "    .prefetch(buffer_size=AUTOTUNE)\n",
    ")\n"
   ]
  },
  {
   "cell_type": "markdown",
   "id": "91a2438d",
   "metadata": {
    "papermill": {
     "duration": 0.004411,
     "end_time": "2024-10-16T22:49:48.386294",
     "exception": false,
     "start_time": "2024-10-16T22:49:48.381883",
     "status": "completed"
    },
    "tags": []
   },
   "source": [
    "# Design a Convnet #\n",
    "\n",
    "Let's design a convolutional network with a block architecture like we saw in the tutorial. The model from the example had three blocks, each with a single convolutional layer. Its performance on the \"Car or Truck\" problem was okay, but far from what the pretrained VGG16 could achieve. It might be that our simple network lacks the ability to extract sufficiently complex features. We could try improving the model either by adding more blocks or by adding convolutions to the blocks we have.\n",
    "\n",
    "Let's go with the second approach. We'll keep the three block structure, but increase the number of `Conv2D` layer in the second block to two, and in the third block to three.\n",
    "\n",
    "<figure>\n",
    "<!-- <img src=\"./images/2-convmodel-2.png\" width=\"250\" alt=\"Diagram of a convolutional model.\"> -->\n",
    "<img src=\"https://storage.googleapis.com/kaggle-media/learn/images/Vko6nCK.png\" width=\"250\" alt=\"Diagram of a convolutional model.\">\n",
    "</figure>\n",
    "\n",
    "# 1) Define Model #\n",
    "\n",
    "Given the diagram above, complete the model by defining the layers of the third block."
   ]
  },
  {
   "cell_type": "code",
   "execution_count": 2,
   "id": "9b15def5",
   "metadata": {
    "execution": {
     "iopub.execute_input": "2024-10-16T22:49:48.397527Z",
     "iopub.status.busy": "2024-10-16T22:49:48.397109Z",
     "iopub.status.idle": "2024-10-16T22:49:48.584207Z",
     "shell.execute_reply": "2024-10-16T22:49:48.582908Z"
    },
    "lines_to_next_cell": 0,
    "papermill": {
     "duration": 0.195846,
     "end_time": "2024-10-16T22:49:48.586804",
     "exception": false,
     "start_time": "2024-10-16T22:49:48.390958",
     "status": "completed"
    },
    "tags": []
   },
   "outputs": [
    {
     "data": {
      "application/javascript": [
       "parent.postMessage({\"jupyterEvent\": \"custom.exercise_interaction\", \"data\": {\"outcomeType\": 1, \"valueTowardsCompletion\": 0.3333333333333333, \"interactionType\": 1, \"questionType\": 2, \"questionId\": \"1_Q1\", \"learnToolsVersion\": \"0.3.4\", \"failureMessage\": \"\", \"exceptionClass\": \"\", \"trace\": \"\"}}, \"*\")"
      ],
      "text/plain": [
       "<IPython.core.display.Javascript object>"
      ]
     },
     "metadata": {},
     "output_type": "display_data"
    },
    {
     "data": {
      "text/markdown": [
       "<span style=\"color:#33cc33\">Correct</span>"
      ],
      "text/plain": [
       "Correct"
      ]
     },
     "metadata": {},
     "output_type": "display_data"
    }
   ],
   "source": [
    "from tensorflow import keras\n",
    "from tensorflow.keras import layers\n",
    "\n",
    "model = keras.Sequential([\n",
    "    # Block One\n",
    "    layers.Conv2D(filters=32, kernel_size=3, activation='relu', padding='same',\n",
    "                  input_shape=[128, 128, 3]),\n",
    "    layers.MaxPool2D(),\n",
    "\n",
    "    # Block Two\n",
    "    layers.Conv2D(filters=64, kernel_size=3, activation='relu', padding='same'),\n",
    "    layers.MaxPool2D(),\n",
    "\n",
    "    # Block Three\n",
    "    layers.Conv2D(filters=128, kernel_size=3, activation='relu', padding='same'),\n",
    "    layers.Conv2D(filters=128, kernel_size=3, activation='relu', padding='same'),\n",
    "    layers.MaxPool2D(),\n",
    "\n",
    "    # Head\n",
    "    layers.Flatten(),\n",
    "    layers.Dense(6, activation='relu'),\n",
    "    layers.Dropout(0.2),\n",
    "    layers.Dense(1, activation='sigmoid'),\n",
    "])\n",
    "\n",
    "# Check your answer\n",
    "q_1.check()"
   ]
  },
  {
   "cell_type": "code",
   "execution_count": 3,
   "id": "fe74cbf6",
   "metadata": {
    "execution": {
     "iopub.execute_input": "2024-10-16T22:49:48.598615Z",
     "iopub.status.busy": "2024-10-16T22:49:48.598196Z",
     "iopub.status.idle": "2024-10-16T22:49:48.602921Z",
     "shell.execute_reply": "2024-10-16T22:49:48.601797Z"
    },
    "papermill": {
     "duration": 0.013182,
     "end_time": "2024-10-16T22:49:48.605115",
     "exception": false,
     "start_time": "2024-10-16T22:49:48.591933",
     "status": "completed"
    },
    "tags": []
   },
   "outputs": [],
   "source": [
    "# Lines below will give you a hint or solution code\n",
    "#q_1.hint()\n",
    "#q_1.solution()"
   ]
  },
  {
   "cell_type": "markdown",
   "id": "5c33c8d0",
   "metadata": {
    "papermill": {
     "duration": 0.004859,
     "end_time": "2024-10-16T22:49:48.615066",
     "exception": false,
     "start_time": "2024-10-16T22:49:48.610207",
     "status": "completed"
    },
    "tags": []
   },
   "source": [
    "# 2) Compile #\n",
    "\n",
    "To prepare for training, compile the model with an appropriate loss and accuracy metric for the \"Car or Truck\" dataset."
   ]
  },
  {
   "cell_type": "code",
   "execution_count": 4,
   "id": "18e94dec",
   "metadata": {
    "execution": {
     "iopub.execute_input": "2024-10-16T22:49:48.626771Z",
     "iopub.status.busy": "2024-10-16T22:49:48.626330Z",
     "iopub.status.idle": "2024-10-16T22:49:48.655011Z",
     "shell.execute_reply": "2024-10-16T22:49:48.653770Z"
    },
    "lines_to_next_cell": 0,
    "papermill": {
     "duration": 0.037377,
     "end_time": "2024-10-16T22:49:48.657417",
     "exception": false,
     "start_time": "2024-10-16T22:49:48.620040",
     "status": "completed"
    },
    "tags": []
   },
   "outputs": [
    {
     "data": {
      "application/javascript": [
       "parent.postMessage({\"jupyterEvent\": \"custom.exercise_interaction\", \"data\": {\"outcomeType\": 1, \"valueTowardsCompletion\": 0.3333333333333333, \"interactionType\": 1, \"questionType\": 2, \"questionId\": \"2_Q2\", \"learnToolsVersion\": \"0.3.4\", \"failureMessage\": \"\", \"exceptionClass\": \"\", \"trace\": \"\"}}, \"*\")"
      ],
      "text/plain": [
       "<IPython.core.display.Javascript object>"
      ]
     },
     "metadata": {},
     "output_type": "display_data"
    },
    {
     "data": {
      "text/markdown": [
       "<span style=\"color:#33cc33\">Correct</span>"
      ],
      "text/plain": [
       "Correct"
      ]
     },
     "metadata": {},
     "output_type": "display_data"
    }
   ],
   "source": [
    "model.compile(\n",
    "    optimizer=tf.keras.optimizers.Adam(learning_rate=0.0001),\n",
    "    loss='binary_crossentropy',\n",
    "    metrics=['binary_accuracy'],\n",
    ")\n",
    "\n",
    "# Check your answer\n",
    "q_2.check()"
   ]
  },
  {
   "cell_type": "code",
   "execution_count": 5,
   "id": "2e7effa5",
   "metadata": {
    "execution": {
     "iopub.execute_input": "2024-10-16T22:49:48.669894Z",
     "iopub.status.busy": "2024-10-16T22:49:48.669464Z",
     "iopub.status.idle": "2024-10-16T22:49:48.688716Z",
     "shell.execute_reply": "2024-10-16T22:49:48.687603Z"
    },
    "lines_to_next_cell": 0,
    "papermill": {
     "duration": 0.02819,
     "end_time": "2024-10-16T22:49:48.690981",
     "exception": false,
     "start_time": "2024-10-16T22:49:48.662791",
     "status": "completed"
    },
    "tags": []
   },
   "outputs": [
    {
     "data": {
      "application/javascript": [
       "parent.postMessage({\"jupyterEvent\": \"custom.exercise_interaction\", \"data\": {\"outcomeType\": 1, \"valueTowardsCompletion\": 0.3333333333333333, \"interactionType\": 1, \"questionType\": 2, \"questionId\": \"2_Q2\", \"learnToolsVersion\": \"0.3.4\", \"failureMessage\": \"\", \"exceptionClass\": \"\", \"trace\": \"\"}}, \"*\")"
      ],
      "text/plain": [
       "<IPython.core.display.Javascript object>"
      ]
     },
     "metadata": {},
     "output_type": "display_data"
    },
    {
     "data": {
      "text/markdown": [
       "<span style=\"color:#33cc33\">Correct</span>"
      ],
      "text/plain": [
       "Correct"
      ]
     },
     "metadata": {},
     "output_type": "display_data"
    }
   ],
   "source": [
    "model.compile(\n",
    "    optimizer=tf.keras.optimizers.Adam(epsilon=0.01),\n",
    "    loss='binary_crossentropy',\n",
    "    metrics=['binary_accuracy'],\n",
    ")\n",
    "q_2.assert_check_passed()"
   ]
  },
  {
   "cell_type": "code",
   "execution_count": 6,
   "id": "280fe5d9",
   "metadata": {
    "execution": {
     "iopub.execute_input": "2024-10-16T22:49:48.703768Z",
     "iopub.status.busy": "2024-10-16T22:49:48.703347Z",
     "iopub.status.idle": "2024-10-16T22:49:48.708163Z",
     "shell.execute_reply": "2024-10-16T22:49:48.707113Z"
    },
    "lines_to_next_cell": 0,
    "papermill": {
     "duration": 0.014025,
     "end_time": "2024-10-16T22:49:48.710515",
     "exception": false,
     "start_time": "2024-10-16T22:49:48.696490",
     "status": "completed"
    },
    "tags": []
   },
   "outputs": [],
   "source": [
    "# Lines below will give you a hint or solution code\n",
    "#q_2.hint()\n",
    "#q_2.solution()"
   ]
  },
  {
   "cell_type": "markdown",
   "id": "5d8b230b",
   "metadata": {
    "papermill": {
     "duration": 0.005891,
     "end_time": "2024-10-16T22:49:48.722083",
     "exception": false,
     "start_time": "2024-10-16T22:49:48.716192",
     "status": "completed"
    },
    "tags": []
   },
   "source": [
    "Finally, let's test the performance of this new model. First run this cell to fit the model to the training set."
   ]
  },
  {
   "cell_type": "code",
   "execution_count": 7,
   "id": "b7c6a9ec",
   "metadata": {
    "execution": {
     "iopub.execute_input": "2024-10-16T22:49:48.735254Z",
     "iopub.status.busy": "2024-10-16T22:49:48.734855Z",
     "iopub.status.idle": "2024-10-16T22:57:54.350314Z",
     "shell.execute_reply": "2024-10-16T22:57:54.349093Z"
    },
    "papermill": {
     "duration": 485.643121,
     "end_time": "2024-10-16T22:57:54.370794",
     "exception": false,
     "start_time": "2024-10-16T22:49:48.727673",
     "status": "completed"
    },
    "tags": []
   },
   "outputs": [
    {
     "name": "stdout",
     "output_type": "stream",
     "text": [
      "Epoch 1/3\n",
      "80/80 [==============================] - 167s 2s/step - loss: 0.6771 - binary_accuracy: 0.5769 - val_loss: 0.6636 - val_binary_accuracy: 0.5785\n",
      "Epoch 2/3\n",
      "80/80 [==============================] - 159s 2s/step - loss: 0.6641 - binary_accuracy: 0.5787 - val_loss: 0.6556 - val_binary_accuracy: 0.5785\n",
      "Epoch 3/3\n",
      "80/80 [==============================] - 160s 2s/step - loss: 0.6598 - binary_accuracy: 0.5970 - val_loss: 0.6511 - val_binary_accuracy: 0.6056\n"
     ]
    }
   ],
   "source": [
    "history = model.fit(\n",
    "    ds_train,\n",
    "    validation_data=ds_valid,\n",
    "    epochs=3,\n",
    ")"
   ]
  },
  {
   "cell_type": "markdown",
   "id": "fd26eb2b",
   "metadata": {
    "papermill": {
     "duration": 0.020891,
     "end_time": "2024-10-16T22:57:54.413168",
     "exception": false,
     "start_time": "2024-10-16T22:57:54.392277",
     "status": "completed"
    },
    "tags": []
   },
   "source": [
    "And now run the cell below to plot the loss and metric curves for this training run."
   ]
  },
  {
   "cell_type": "code",
   "execution_count": 8,
   "id": "fdfe2e4e",
   "metadata": {
    "execution": {
     "iopub.execute_input": "2024-10-16T22:57:54.458115Z",
     "iopub.status.busy": "2024-10-16T22:57:54.457650Z",
     "iopub.status.idle": "2024-10-16T22:57:55.222169Z",
     "shell.execute_reply": "2024-10-16T22:57:55.221058Z"
    },
    "papermill": {
     "duration": 0.78981,
     "end_time": "2024-10-16T22:57:55.224584",
     "exception": false,
     "start_time": "2024-10-16T22:57:54.434774",
     "status": "completed"
    },
    "tags": []
   },
   "outputs": [
    {
     "data": {
      "image/png": "[encoded data removed]",
      "text/plain": [
       "<Figure size 640x480 with 1 Axes>"
      ]
     },
     "metadata": {},
     "output_type": "display_data"
    },
    {
     "data": {
      "image/png": "[encoded data removed]",
      "text/plain": [
       "<Figure size 640x480 with 1 Axes>"
      ]
     },
     "metadata": {},
     "output_type": "display_data"
    }
   ],
   "source": [
    "import pandas as pd\n",
    "history_frame = pd.DataFrame(history.history)\n",
    "history_frame.loc[:, ['loss', 'val_loss']].plot()\n",
    "history_frame.loc[:, ['binary_accuracy', 'val_binary_accuracy']].plot();"
   ]
  },
  {
   "cell_type": "markdown",
   "id": "5241b79a",
   "metadata": {
    "papermill": {
     "duration": 0.022127,
     "end_time": "2024-10-16T22:57:55.269253",
     "exception": false,
     "start_time": "2024-10-16T22:57:55.247126",
     "status": "completed"
    },
    "tags": []
   },
   "source": [
    "# 3) Train the Model #\n",
    "\n",
    "How would you interpret these training curves? Did this model improve upon the model from the tutorial?"
   ]
  },
  {
   "cell_type": "code",
   "execution_count": 9,
   "id": "bbc0b418",
   "metadata": {
    "execution": {
     "iopub.execute_input": "2024-10-16T22:57:55.316130Z",
     "iopub.status.busy": "2024-10-16T22:57:55.315299Z",
     "iopub.status.idle": "2024-10-16T22:57:55.324704Z",
     "shell.execute_reply": "2024-10-16T22:57:55.323592Z"
    },
    "lines_to_next_cell": 0,
    "papermill": {
     "duration": 0.035378,
     "end_time": "2024-10-16T22:57:55.326997",
     "exception": false,
     "start_time": "2024-10-16T22:57:55.291619",
     "status": "completed"
    },
    "tags": []
   },
   "outputs": [
    {
     "data": {
      "application/javascript": [
       "parent.postMessage({\"jupyterEvent\": \"custom.exercise_interaction\", \"data\": {\"outcomeType\": 1, \"valueTowardsCompletion\": 0.3333333333333333, \"interactionType\": 1, \"questionType\": 4, \"questionId\": \"3_Q3\", \"learnToolsVersion\": \"0.3.4\", \"failureMessage\": \"\", \"exceptionClass\": \"\", \"trace\": \"\"}}, \"*\")"
      ],
      "text/plain": [
       "<IPython.core.display.Javascript object>"
      ]
     },
     "metadata": {},
     "output_type": "display_data"
    },
    {
     "data": {
      "text/markdown": [
       "<span style=\"color:#33cc33\">Correct:</span> \n",
       "\n",
       "\n",
       "The learning curves for the model from the tutorial diverged fairly rapidly. This would indicate that it was prone to overfitting and in need of some regularization. The additional layer in our new model would make it even more prone to overfitting. However, adding some regularization with the `Dropout` layer helped prevent this. These changes improved the validation accuracy of the model by several points.\n"
      ],
      "text/plain": [
       "Correct: \n",
       "\n",
       "\n",
       "The learning curves for the model from the tutorial diverged fairly rapidly. This would indicate that it was prone to overfitting and in need of some regularization. The additional layer in our new model would make it even more prone to overfitting. However, adding some regularization with the `Dropout` layer helped prevent this. These changes improved the validation accuracy of the model by several points."
      ]
     },
     "metadata": {},
     "output_type": "display_data"
    }
   ],
   "source": [
    "# View the solution (Run this code cell to receive credit!)\n",
    "q_3.check()"
   ]
  },
  {
   "cell_type": "markdown",
   "id": "c82876f9",
   "metadata": {
    "papermill": {
     "duration": 0.022344,
     "end_time": "2024-10-16T22:57:55.372238",
     "exception": false,
     "start_time": "2024-10-16T22:57:55.349894",
     "status": "completed"
    },
    "tags": []
   },
   "source": [
    "# Conclusion #\n",
    "\n",
    "These exercises showed you how to design a custom convolutional network to solve a specific classification problem. Though most models these days will be built on top of a pretrained base, it certain circumstances a smaller custom convnet might still be preferable -- such as with a smaller or unusual dataset or when computing resources are very limited. As you saw here, for certain problems they can perform just as well as a pretrained model.\n",
    "\n",
    "# Keep Going #\n",
    "\n",
    "Continue on to [**Lesson 6**](https://www.kaggle.com/ryanholbrook/data-augmentation), where you'll learn a widely-used technique that can give a boost to your training data: **data augmentation**."
   ]
  },
  {
   "cell_type": "markdown",
   "id": "95fe87bb",
   "metadata": {
    "papermill": {
     "duration": 0.022664,
     "end_time": "2024-10-16T22:57:55.418331",
     "exception": false,
     "start_time": "2024-10-16T22:57:55.395667",
     "status": "completed"
    },
    "tags": []
   },
   "source": [
    "---\n",
    "\n",
    "\n",
    "\n",
    "\n",
    "*Have questions or comments? Visit the [course discussion forum](https://www.kaggle.com/learn/computer-vision/discussion) to chat with other learners.*"
   ]
  }
 ],
 "metadata": {
  "jupytext": {
   "formats": "md,ipynb"
  },
  "kaggle": {
   "accelerator": "gpu",
   "dataSources": [
    {
     "datasetId": 708136,
     "sourceId": 1338830,
     "sourceType": "datasetVersion"
    },
    {
     "datasetId": 701538,
     "sourceId": 1363948,
     "sourceType": "datasetVersion"
    },
    {
     "datasetId": 878523,
     "sourceId": 1495782,
     "sourceType": "datasetVersion"
    }
   ],
   "dockerImageVersionId": 30648,
   "isGpuEnabled": true,
   "isInternetEnabled": false,
   "language": "python",
   "sourceType": "notebook"
  },
  "kernelspec": {
   "display_name": "Python 3",
   "language": "python",
   "name": "python3"
  },
  "language_info": {
   "codemirror_mode": {
    "name": "ipython",
    "version": 3
   },
   "file_extension": ".py",
   "mimetype": "text/x-python",
   "name": "python",
   "nbconvert_exporter": "python",
   "pygments_lexer": "ipython3",
   "version": "3.10.13"
  },
  "papermill": {
   "default_parameters": {},
   "duration": 515.892032,
   "end_time": "2024-10-16T22:57:57.938259",
   "environment_variables": {},
   "exception": null,
   "input_path": "__notebook__.ipynb",
   "output_path": "__notebook__.ipynb",
   "parameters": {},
   "start_time": "2024-10-16T22:49:22.046227",
   "version": "2.5.0"
  }
 },
 "nbformat": 4,
 "nbformat_minor": 5
}
