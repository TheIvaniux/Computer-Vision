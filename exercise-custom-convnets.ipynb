{
 "cells": [
  {
   "cell_type": "markdown",
   "id": "ca3bbf1d",
   "metadata": {
    "papermill": {
     "duration": 0.006803,
     "end_time": "2024-10-17T14:44:49.818985",
     "exception": false,
     "start_time": "2024-10-17T14:44:49.812182",
     "status": "completed"
    },
    "tags": []
   },
   "source": [
    "**This notebook is an exercise in the [Computer Vision](https://www.kaggle.com/learn/computer-vision) course.  You can reference the tutorial at [this link](https://www.kaggle.com/ryanholbrook/custom-convnets).**\n",
    "\n",
    "---\n"
   ]
  },
  {
   "cell_type": "markdown",
   "id": "e8a28493",
   "metadata": {
    "papermill": {
     "duration": 0.005899,
     "end_time": "2024-10-17T14:44:49.831640",
     "exception": false,
     "start_time": "2024-10-17T14:44:49.825741",
     "status": "completed"
    },
    "tags": []
   },
   "source": [
    "# Introduction #\n",
    "\n",
    "In these exercises, you'll build a custom convnet with performance competitive to the VGG16 model from Lesson 1.\n",
    "\n",
    "Get started by running the code cell below."
   ]
  },
  {
   "cell_type": "code",
   "execution_count": 1,
   "id": "642f21ba",
   "metadata": {
    "execution": {
     "iopub.execute_input": "2024-10-17T14:44:49.848100Z",
     "iopub.status.busy": "2024-10-17T14:44:49.847630Z",
     "iopub.status.idle": "2024-10-17T14:45:12.657100Z",
     "shell.execute_reply": "2024-10-17T14:45:12.655545Z"
    },
    "papermill": {
     "duration": 22.822525,
     "end_time": "2024-10-17T14:45:12.660420",
     "exception": false,
     "start_time": "2024-10-17T14:44:49.837895",
     "status": "completed"
    },
    "tags": []
   },
   "outputs": [
    {
     "name": "stderr",
     "output_type": "stream",
     "text": [
      "2024-10-17 14:44:53.423005: E external/local_xla/xla/stream_executor/cuda/cuda_dnn.cc:9261] Unable to register cuDNN factory: Attempting to register factory for plugin cuDNN when one has already been registered\n",
      "2024-10-17 14:44:53.423210: E external/local_xla/xla/stream_executor/cuda/cuda_fft.cc:607] Unable to register cuFFT factory: Attempting to register factory for plugin cuFFT when one has already been registered\n",
      "2024-10-17 14:44:53.594917: E external/local_xla/xla/stream_executor/cuda/cuda_blas.cc:1515] Unable to register cuBLAS factory: Attempting to register factory for plugin cuBLAS when one has already been registered\n"
     ]
    },
    {
     "name": "stdout",
     "output_type": "stream",
     "text": [
      "Found 5117 files belonging to 2 classes.\n",
      "Found 5051 files belonging to 2 classes.\n"
     ]
    }
   ],
   "source": [
    "# Setup feedback system\n",
    "from learntools.core import binder\n",
    "binder.bind(globals())\n",
    "from learntools.computer_vision.ex5 import *\n",
    "\n",
    "# Imports\n",
    "import os, warnings\n",
    "import matplotlib.pyplot as plt\n",
    "from matplotlib import gridspec\n",
    "\n",
    "import numpy as np\n",
    "import tensorflow as tf\n",
    "from tensorflow.keras.preprocessing import image_dataset_from_directory\n",
    "\n",
    "# Reproducability\n",
    "def set_seed(seed=31415):\n",
    "    np.random.seed(seed)\n",
    "    tf.random.set_seed(seed)\n",
    "    os.environ['PYTHONHASHSEED'] = str(seed)\n",
    "    os.environ['TF_DETERMINISTIC_OPS'] = '1'\n",
    "set_seed()\n",
    "\n",
    "# Set Matplotlib defaults\n",
    "plt.rc('figure', autolayout=True)\n",
    "plt.rc('axes', labelweight='bold', labelsize='large',\n",
    "       titleweight='bold', titlesize=18, titlepad=10)\n",
    "plt.rc('image', cmap='magma')\n",
    "warnings.filterwarnings(\"ignore\") # to clean up output cells\n",
    "\n",
    "\n",
    "# Load training and validation sets\n",
    "ds_train_ = image_dataset_from_directory(\n",
    "    '../input/car-or-truck/train',\n",
    "    labels='inferred',\n",
    "    label_mode='binary',\n",
    "    image_size=[128, 128],\n",
    "    interpolation='nearest',\n",
    "    batch_size=64,\n",
    "    shuffle=True,\n",
    ")\n",
    "ds_valid_ = image_dataset_from_directory(\n",
    "    '../input/car-or-truck/valid',\n",
    "    labels='inferred',\n",
    "    label_mode='binary',\n",
    "    image_size=[128, 128],\n",
    "    interpolation='nearest',\n",
    "    batch_size=64,\n",
    "    shuffle=False,\n",
    ")\n",
    "\n",
    "# Data Pipeline\n",
    "def convert_to_float(image, label):\n",
    "    image = tf.image.convert_image_dtype(image, dtype=tf.float32)\n",
    "    return image, label\n",
    "\n",
    "AUTOTUNE = tf.data.experimental.AUTOTUNE\n",
    "ds_train = (\n",
    "    ds_train_\n",
    "    .map(convert_to_float)\n",
    "    .cache()\n",
    "    .prefetch(buffer_size=AUTOTUNE)\n",
    ")\n",
    "ds_valid = (\n",
    "    ds_valid_\n",
    "    .map(convert_to_float)\n",
    "    .cache()\n",
    "    .prefetch(buffer_size=AUTOTUNE)\n",
    ")\n"
   ]
  },
  {
   "cell_type": "markdown",
   "id": "0b872681",
   "metadata": {
    "papermill": {
     "duration": 0.006209,
     "end_time": "2024-10-17T14:45:12.673350",
     "exception": false,
     "start_time": "2024-10-17T14:45:12.667141",
     "status": "completed"
    },
    "tags": []
   },
   "source": [
    "# Design a Convnet #\n",
    "\n",
    "Let's design a convolutional network with a block architecture like we saw in the tutorial. The model from the example had three blocks, each with a single convolutional layer. Its performance on the \"Car or Truck\" problem was okay, but far from what the pretrained VGG16 could achieve. It might be that our simple network lacks the ability to extract sufficiently complex features. We could try improving the model either by adding more blocks or by adding convolutions to the blocks we have.\n",
    "\n",
    "Let's go with the second approach. We'll keep the three block structure, but increase the number of `Conv2D` layer in the second block to two, and in the third block to three.\n",
    "\n",
    "<figure>\n",
    "<!-- <img src=\"./images/2-convmodel-2.png\" width=\"250\" alt=\"Diagram of a convolutional model.\"> -->\n",
    "<img src=\"https://storage.googleapis.com/kaggle-media/learn/images/Vko6nCK.png\" width=\"250\" alt=\"Diagram of a convolutional model.\">\n",
    "</figure>\n",
    "\n",
    "# 1) Define Model #\n",
    "\n",
    "Given the diagram above, complete the model by defining the layers of the third block."
   ]
  },
  {
   "cell_type": "code",
   "execution_count": 2,
   "id": "57732e5b",
   "metadata": {
    "execution": {
     "iopub.execute_input": "2024-10-17T14:45:12.689100Z",
     "iopub.status.busy": "2024-10-17T14:45:12.688610Z",
     "iopub.status.idle": "2024-10-17T14:45:12.900096Z",
     "shell.execute_reply": "2024-10-17T14:45:12.898875Z"
    },
    "lines_to_next_cell": 0,
    "papermill": {
     "duration": 0.223417,
     "end_time": "2024-10-17T14:45:12.903533",
     "exception": false,
     "start_time": "2024-10-17T14:45:12.680116",
     "status": "completed"
    },
    "tags": []
   },
   "outputs": [
    {
     "data": {
      "application/javascript": [
       "parent.postMessage({\"jupyterEvent\": \"custom.exercise_interaction\", \"data\": {\"outcomeType\": 1, \"valueTowardsCompletion\": 0.3333333333333333, \"interactionType\": 1, \"questionType\": 2, \"questionId\": \"1_Q1\", \"learnToolsVersion\": \"0.3.4\", \"failureMessage\": \"\", \"exceptionClass\": \"\", \"trace\": \"\"}}, \"*\")"
      ],
      "text/plain": [
       "<IPython.core.display.Javascript object>"
      ]
     },
     "metadata": {},
     "output_type": "display_data"
    },
    {
     "data": {
      "text/markdown": [
       "<span style=\"color:#33cc33\">Correct</span>"
      ],
      "text/plain": [
       "Correct"
      ]
     },
     "metadata": {},
     "output_type": "display_data"
    }
   ],
   "source": [
    "from tensorflow import keras\n",
    "from tensorflow.keras import layers\n",
    "\n",
    "model = keras.Sequential([\n",
    "    # Block One\n",
    "    layers.Conv2D(filters=32, kernel_size=3, activation='relu', padding='same',\n",
    "                  input_shape=[128, 128, 3]),\n",
    "    layers.MaxPool2D(),\n",
    "\n",
    "    # Block Two\n",
    "    layers.Conv2D(filters=64, kernel_size=3, activation='relu', padding='same'),\n",
    "    layers.MaxPool2D(),\n",
    "\n",
    "    # Block Three\n",
    "    layers.Conv2D(filters=128, kernel_size=3, activation='relu', padding='same'),\n",
    "    layers.Conv2D(filters=128, kernel_size=3, activation='relu', padding='same'),\n",
    "    layers.MaxPool2D(),\n",
    "\n",
    "    # Head\n",
    "    layers.Flatten(),\n",
    "    layers.Dense(6, activation='relu'),\n",
    "    layers.Dropout(0.2),\n",
    "    layers.Dense(1, activation='sigmoid'),\n",
    "])\n",
    "\n",
    "# Check your answer\n",
    "q_1.check()"
   ]
  },
  {
   "cell_type": "code",
   "execution_count": 3,
   "id": "940431c9",
   "metadata": {
    "execution": {
     "iopub.execute_input": "2024-10-17T14:45:12.920344Z",
     "iopub.status.busy": "2024-10-17T14:45:12.919854Z",
     "iopub.status.idle": "2024-10-17T14:45:12.925787Z",
     "shell.execute_reply": "2024-10-17T14:45:12.924466Z"
    },
    "papermill": {
     "duration": 0.017654,
     "end_time": "2024-10-17T14:45:12.928798",
     "exception": false,
     "start_time": "2024-10-17T14:45:12.911144",
     "status": "completed"
    },
    "tags": []
   },
   "outputs": [],
   "source": [
    "# Lines below will give you a hint or solution code\n",
    "#q_1.hint()\n",
    "#q_1.solution()"
   ]
  },
  {
   "cell_type": "markdown",
   "id": "1af932dc",
   "metadata": {
    "papermill": {
     "duration": 0.006726,
     "end_time": "2024-10-17T14:45:12.942876",
     "exception": false,
     "start_time": "2024-10-17T14:45:12.936150",
     "status": "completed"
    },
    "tags": []
   },
   "source": [
    "# 2) Compile #\n",
    "\n",
    "To prepare for training, compile the model with an appropriate loss and accuracy metric for the \"Car or Truck\" dataset."
   ]
  },
  {
   "cell_type": "code",
   "execution_count": 4,
   "id": "12ab754b",
   "metadata": {
    "execution": {
     "iopub.execute_input": "2024-10-17T14:45:12.961015Z",
     "iopub.status.busy": "2024-10-17T14:45:12.960433Z",
     "iopub.status.idle": "2024-10-17T14:45:12.996783Z",
     "shell.execute_reply": "2024-10-17T14:45:12.995349Z"
    },
    "lines_to_next_cell": 0,
    "papermill": {
     "duration": 0.049692,
     "end_time": "2024-10-17T14:45:12.999528",
     "exception": false,
     "start_time": "2024-10-17T14:45:12.949836",
     "status": "completed"
    },
    "tags": []
   },
   "outputs": [
    {
     "data": {
      "application/javascript": [
       "parent.postMessage({\"jupyterEvent\": \"custom.exercise_interaction\", \"data\": {\"outcomeType\": 1, \"valueTowardsCompletion\": 0.3333333333333333, \"interactionType\": 1, \"questionType\": 2, \"questionId\": \"2_Q2\", \"learnToolsVersion\": \"0.3.4\", \"failureMessage\": \"\", \"exceptionClass\": \"\", \"trace\": \"\"}}, \"*\")"
      ],
      "text/plain": [
       "<IPython.core.display.Javascript object>"
      ]
     },
     "metadata": {},
     "output_type": "display_data"
    },
    {
     "data": {
      "text/markdown": [
       "<span style=\"color:#33cc33\">Correct</span>"
      ],
      "text/plain": [
       "Correct"
      ]
     },
     "metadata": {},
     "output_type": "display_data"
    }
   ],
   "source": [
    "model.compile(\n",
    "    optimizer=tf.keras.optimizers.Adam(learning_rate=0.0001),\n",
    "    loss='binary_crossentropy',\n",
    "    metrics=['binary_accuracy'],\n",
    ")\n",
    "\n",
    "# Check your answer\n",
    "q_2.check()"
   ]
  },
  {
   "cell_type": "code",
   "execution_count": 5,
   "id": "159b2d20",
   "metadata": {
    "execution": {
     "iopub.execute_input": "2024-10-17T14:45:13.016754Z",
     "iopub.status.busy": "2024-10-17T14:45:13.016266Z",
     "iopub.status.idle": "2024-10-17T14:45:13.037627Z",
     "shell.execute_reply": "2024-10-17T14:45:13.036426Z"
    },
    "lines_to_next_cell": 0,
    "papermill": {
     "duration": 0.032959,
     "end_time": "2024-10-17T14:45:13.040156",
     "exception": false,
     "start_time": "2024-10-17T14:45:13.007197",
     "status": "completed"
    },
    "tags": []
   },
   "outputs": [
    {
     "data": {
      "application/javascript": [
       "parent.postMessage({\"jupyterEvent\": \"custom.exercise_interaction\", \"data\": {\"outcomeType\": 1, \"valueTowardsCompletion\": 0.3333333333333333, \"interactionType\": 1, \"questionType\": 2, \"questionId\": \"2_Q2\", \"learnToolsVersion\": \"0.3.4\", \"failureMessage\": \"\", \"exceptionClass\": \"\", \"trace\": \"\"}}, \"*\")"
      ],
      "text/plain": [
       "<IPython.core.display.Javascript object>"
      ]
     },
     "metadata": {},
     "output_type": "display_data"
    },
    {
     "data": {
      "text/markdown": [
       "<span style=\"color:#33cc33\">Correct</span>"
      ],
      "text/plain": [
       "Correct"
      ]
     },
     "metadata": {},
     "output_type": "display_data"
    }
   ],
   "source": [
    "model.compile(\n",
    "    optimizer=tf.keras.optimizers.Adam(epsilon=0.01),\n",
    "    loss='binary_crossentropy',\n",
    "    metrics=['binary_accuracy'],\n",
    ")\n",
    "q_2.assert_check_passed()"
   ]
  },
  {
   "cell_type": "code",
   "execution_count": 6,
   "id": "27b5dc9d",
   "metadata": {
    "execution": {
     "iopub.execute_input": "2024-10-17T14:45:13.057987Z",
     "iopub.status.busy": "2024-10-17T14:45:13.057522Z",
     "iopub.status.idle": "2024-10-17T14:45:13.063895Z",
     "shell.execute_reply": "2024-10-17T14:45:13.062272Z"
    },
    "lines_to_next_cell": 0,
    "papermill": {
     "duration": 0.018668,
     "end_time": "2024-10-17T14:45:13.066753",
     "exception": false,
     "start_time": "2024-10-17T14:45:13.048085",
     "status": "completed"
    },
    "tags": []
   },
   "outputs": [],
   "source": [
    "# Lines below will give you a hint or solution code\n",
    "#q_2.hint()\n",
    "#q_2.solution()"
   ]
  },
  {
   "cell_type": "markdown",
   "id": "3adeaec7",
   "metadata": {
    "papermill": {
     "duration": 0.007388,
     "end_time": "2024-10-17T14:45:13.082517",
     "exception": false,
     "start_time": "2024-10-17T14:45:13.075129",
     "status": "completed"
    },
    "tags": []
   },
   "source": [
    "Finally, let's test the performance of this new model. First run this cell to fit the model to the training set."
   ]
  },
  {
   "cell_type": "code",
   "execution_count": 7,
   "id": "116801c3",
   "metadata": {
    "execution": {
     "iopub.execute_input": "2024-10-17T14:45:13.100606Z",
     "iopub.status.busy": "2024-10-17T14:45:13.100059Z",
     "iopub.status.idle": "2024-10-17T17:22:38.896761Z",
     "shell.execute_reply": "2024-10-17T17:22:38.893691Z"
    },
    "papermill": {
     "duration": 9445.810424,
     "end_time": "2024-10-17T17:22:38.900657",
     "exception": false,
     "start_time": "2024-10-17T14:45:13.090233",
     "status": "completed"
    },
    "tags": []
   },
   "outputs": [
    {
     "name": "stdout",
     "output_type": "stream",
     "text": [
      "Epoch 1/50\n",
      "80/80 [==============================] - 197s 2s/step - loss: 0.6807 - binary_accuracy: 0.5798 - val_loss: 0.6700 - val_binary_accuracy: 0.5801\n",
      "Epoch 2/50\n",
      "80/80 [==============================] - 228s 3s/step - loss: 0.6684 - binary_accuracy: 0.5941 - val_loss: 0.6572 - val_binary_accuracy: 0.6108\n",
      "Epoch 3/50\n",
      "80/80 [==============================] - 188s 2s/step - loss: 0.6592 - binary_accuracy: 0.6097 - val_loss: 0.6499 - val_binary_accuracy: 0.6254\n",
      "Epoch 4/50\n",
      "80/80 [==============================] - 186s 2s/step - loss: 0.6541 - binary_accuracy: 0.6146 - val_loss: 0.6462 - val_binary_accuracy: 0.6381\n",
      "Epoch 5/50\n",
      "80/80 [==============================] - 181s 2s/step - loss: 0.6417 - binary_accuracy: 0.6273 - val_loss: 0.6325 - val_binary_accuracy: 0.6389\n",
      "Epoch 6/50\n",
      "80/80 [==============================] - 188s 2s/step - loss: 0.6338 - binary_accuracy: 0.6334 - val_loss: 0.6256 - val_binary_accuracy: 0.6419\n",
      "Epoch 7/50\n",
      "80/80 [==============================] - 177s 2s/step - loss: 0.6206 - binary_accuracy: 0.6455 - val_loss: 0.6149 - val_binary_accuracy: 0.6549\n",
      "Epoch 8/50\n",
      "80/80 [==============================] - 174s 2s/step - loss: 0.6076 - binary_accuracy: 0.6547 - val_loss: 0.5997 - val_binary_accuracy: 0.6716\n",
      "Epoch 9/50\n",
      "80/80 [==============================] - 186s 2s/step - loss: 0.5972 - binary_accuracy: 0.6658 - val_loss: 0.5980 - val_binary_accuracy: 0.6834\n",
      "Epoch 10/50\n",
      "80/80 [==============================] - 187s 2s/step - loss: 0.5870 - binary_accuracy: 0.6746 - val_loss: 0.5739 - val_binary_accuracy: 0.6987\n",
      "Epoch 11/50\n",
      "80/80 [==============================] - 186s 2s/step - loss: 0.5718 - binary_accuracy: 0.6885 - val_loss: 0.5608 - val_binary_accuracy: 0.7094\n",
      "Epoch 12/50\n",
      "80/80 [==============================] - 184s 2s/step - loss: 0.5539 - binary_accuracy: 0.7049 - val_loss: 0.5467 - val_binary_accuracy: 0.7232\n",
      "Epoch 13/50\n",
      "80/80 [==============================] - 186s 2s/step - loss: 0.5392 - binary_accuracy: 0.7121 - val_loss: 0.5299 - val_binary_accuracy: 0.7313\n",
      "Epoch 14/50\n",
      "80/80 [==============================] - 187s 2s/step - loss: 0.5170 - binary_accuracy: 0.7336 - val_loss: 0.5102 - val_binary_accuracy: 0.7553\n",
      "Epoch 15/50\n",
      "80/80 [==============================] - 187s 2s/step - loss: 0.4927 - binary_accuracy: 0.7407 - val_loss: 0.5140 - val_binary_accuracy: 0.7454\n",
      "Epoch 16/50\n",
      "80/80 [==============================] - 187s 2s/step - loss: 0.4642 - binary_accuracy: 0.7561 - val_loss: 0.4693 - val_binary_accuracy: 0.7775\n",
      "Epoch 17/50\n",
      "80/80 [==============================] - 186s 2s/step - loss: 0.4320 - binary_accuracy: 0.7854 - val_loss: 0.4611 - val_binary_accuracy: 0.7856\n",
      "Epoch 18/50\n",
      "80/80 [==============================] - 187s 2s/step - loss: 0.4222 - binary_accuracy: 0.7966 - val_loss: 0.4526 - val_binary_accuracy: 0.7878\n",
      "Epoch 19/50\n",
      "80/80 [==============================] - 187s 2s/step - loss: 0.3976 - binary_accuracy: 0.8157 - val_loss: 0.4298 - val_binary_accuracy: 0.8010\n",
      "Epoch 20/50\n",
      "80/80 [==============================] - 187s 2s/step - loss: 0.3729 - binary_accuracy: 0.8263 - val_loss: 0.4156 - val_binary_accuracy: 0.8107\n",
      "Epoch 21/50\n",
      "80/80 [==============================] - 187s 2s/step - loss: 0.3537 - binary_accuracy: 0.8370 - val_loss: 0.4296 - val_binary_accuracy: 0.8093\n",
      "Epoch 22/50\n",
      "80/80 [==============================] - 188s 2s/step - loss: 0.3259 - binary_accuracy: 0.8489 - val_loss: 0.4057 - val_binary_accuracy: 0.8133\n",
      "Epoch 23/50\n",
      "80/80 [==============================] - 188s 2s/step - loss: 0.2885 - binary_accuracy: 0.8675 - val_loss: 0.4058 - val_binary_accuracy: 0.8218\n",
      "Epoch 24/50\n",
      "80/80 [==============================] - 187s 2s/step - loss: 0.2759 - binary_accuracy: 0.8710 - val_loss: 0.4344 - val_binary_accuracy: 0.8125\n",
      "Epoch 25/50\n",
      "80/80 [==============================] - 187s 2s/step - loss: 0.2532 - binary_accuracy: 0.8804 - val_loss: 0.4945 - val_binary_accuracy: 0.8097\n",
      "Epoch 26/50\n",
      "80/80 [==============================] - 188s 2s/step - loss: 0.2407 - binary_accuracy: 0.8859 - val_loss: 0.5063 - val_binary_accuracy: 0.8012\n",
      "Epoch 27/50\n",
      "80/80 [==============================] - 179s 2s/step - loss: 0.2454 - binary_accuracy: 0.8827 - val_loss: 0.4840 - val_binary_accuracy: 0.8167\n",
      "Epoch 28/50\n",
      "80/80 [==============================] - 174s 2s/step - loss: 0.2631 - binary_accuracy: 0.8765 - val_loss: 0.4218 - val_binary_accuracy: 0.8272\n",
      "Epoch 29/50\n",
      "80/80 [==============================] - 174s 2s/step - loss: 0.2230 - binary_accuracy: 0.8964 - val_loss: 0.4768 - val_binary_accuracy: 0.8074\n",
      "Epoch 30/50\n",
      "80/80 [==============================] - 173s 2s/step - loss: 0.2069 - binary_accuracy: 0.9015 - val_loss: 0.4348 - val_binary_accuracy: 0.8345\n",
      "Epoch 31/50\n",
      "80/80 [==============================] - 174s 2s/step - loss: 0.1990 - binary_accuracy: 0.9068 - val_loss: 0.5015 - val_binary_accuracy: 0.8238\n",
      "Epoch 32/50\n",
      "80/80 [==============================] - 172s 2s/step - loss: 0.1859 - binary_accuracy: 0.9081 - val_loss: 0.5312 - val_binary_accuracy: 0.8232\n",
      "Epoch 33/50\n",
      "80/80 [==============================] - 179s 2s/step - loss: 0.1674 - binary_accuracy: 0.9187 - val_loss: 0.6770 - val_binary_accuracy: 0.7979\n",
      "Epoch 34/50\n",
      "80/80 [==============================] - 177s 2s/step - loss: 0.1532 - binary_accuracy: 0.9232 - val_loss: 0.6695 - val_binary_accuracy: 0.8048\n",
      "Epoch 35/50\n",
      "80/80 [==============================] - 175s 2s/step - loss: 0.1333 - binary_accuracy: 0.9295 - val_loss: 0.5603 - val_binary_accuracy: 0.8297\n",
      "Epoch 36/50\n",
      "80/80 [==============================] - 187s 2s/step - loss: 0.1141 - binary_accuracy: 0.9394 - val_loss: 0.5987 - val_binary_accuracy: 0.8343\n",
      "Epoch 37/50\n",
      "80/80 [==============================] - 186s 2s/step - loss: 0.1177 - binary_accuracy: 0.9353 - val_loss: 0.5585 - val_binary_accuracy: 0.8446\n",
      "Epoch 38/50\n",
      "80/80 [==============================] - 176s 2s/step - loss: 0.1091 - binary_accuracy: 0.9418 - val_loss: 0.5399 - val_binary_accuracy: 0.8426\n",
      "Epoch 39/50\n",
      "80/80 [==============================] - 188s 2s/step - loss: 0.1083 - binary_accuracy: 0.9396 - val_loss: 0.5237 - val_binary_accuracy: 0.8420\n",
      "Epoch 40/50\n",
      "80/80 [==============================] - 187s 2s/step - loss: 0.0986 - binary_accuracy: 0.9468 - val_loss: 0.5710 - val_binary_accuracy: 0.8331\n",
      "Epoch 41/50\n",
      "80/80 [==============================] - 184s 2s/step - loss: 0.0905 - binary_accuracy: 0.9597 - val_loss: 0.5808 - val_binary_accuracy: 0.8311\n",
      "Epoch 42/50\n",
      "80/80 [==============================] - 189s 2s/step - loss: 0.0927 - binary_accuracy: 0.9595 - val_loss: 0.5998 - val_binary_accuracy: 0.8101\n",
      "Epoch 43/50\n",
      "80/80 [==============================] - 188s 2s/step - loss: 0.0892 - binary_accuracy: 0.9611 - val_loss: 0.6992 - val_binary_accuracy: 0.8109\n",
      "Epoch 44/50\n",
      "80/80 [==============================] - 176s 2s/step - loss: 0.0812 - binary_accuracy: 0.9646 - val_loss: 0.7560 - val_binary_accuracy: 0.7828\n",
      "Epoch 45/50\n",
      "80/80 [==============================] - 184s 2s/step - loss: 0.0855 - binary_accuracy: 0.9660 - val_loss: 0.7139 - val_binary_accuracy: 0.8242\n",
      "Epoch 46/50\n",
      "80/80 [==============================] - 187s 2s/step - loss: 0.0775 - binary_accuracy: 0.9664 - val_loss: 0.7024 - val_binary_accuracy: 0.8472\n",
      "Epoch 47/50\n",
      "80/80 [==============================] - 188s 2s/step - loss: 0.0789 - binary_accuracy: 0.9691 - val_loss: 0.6522 - val_binary_accuracy: 0.8519\n",
      "Epoch 48/50\n",
      "80/80 [==============================] - 188s 2s/step - loss: 0.0789 - binary_accuracy: 0.9695 - val_loss: 0.6212 - val_binary_accuracy: 0.8426\n",
      "Epoch 49/50\n",
      "80/80 [==============================] - 185s 2s/step - loss: 0.0793 - binary_accuracy: 0.9689 - val_loss: 0.7088 - val_binary_accuracy: 0.8448\n",
      "Epoch 50/50\n",
      "80/80 [==============================] - 188s 2s/step - loss: 0.0697 - binary_accuracy: 0.9697 - val_loss: 0.6171 - val_binary_accuracy: 0.8430\n"
     ]
    }
   ],
   "source": [
    "history = model.fit(\n",
    "    ds_train,\n",
    "    validation_data=ds_valid,\n",
    "    epochs=50,\n",
    ")"
   ]
  },
  {
   "cell_type": "markdown",
   "id": "63ce298d",
   "metadata": {
    "papermill": {
     "duration": 0.401083,
     "end_time": "2024-10-17T17:22:39.711236",
     "exception": false,
     "start_time": "2024-10-17T17:22:39.310153",
     "status": "completed"
    },
    "tags": []
   },
   "source": [
    "And now run the cell below to plot the loss and metric curves for this training run."
   ]
  },
  {
   "cell_type": "code",
   "execution_count": 8,
   "id": "c4da8395",
   "metadata": {
    "execution": {
     "iopub.execute_input": "2024-10-17T17:22:40.520550Z",
     "iopub.status.busy": "2024-10-17T17:22:40.519971Z",
     "iopub.status.idle": "2024-10-17T17:22:41.443199Z",
     "shell.execute_reply": "2024-10-17T17:22:41.441708Z"
    },
    "papermill": {
     "duration": 1.333673,
     "end_time": "2024-10-17T17:22:41.446043",
     "exception": false,
     "start_time": "2024-10-17T17:22:40.112370",
     "status": "completed"
    },
    "tags": []
   },
   "outputs": [
    {
     "data": {
      "image/png": "[encoded data removed]",
      "text/plain": [
       "<Figure size 640x480 with 1 Axes>"
      ]
     },
     "metadata": {},
     "output_type": "display_data"
    },
    {
     "data": {
      "image/png": "[encoded data removed]",
      "text/plain": [
       "<Figure size 640x480 with 1 Axes>"
      ]
     },
     "metadata": {},
     "output_type": "display_data"
    }
   ],
   "source": [
    "import pandas as pd\n",
    "history_frame = pd.DataFrame(history.history)\n",
    "history_frame.loc[:, ['loss', 'val_loss']].plot()\n",
    "history_frame.loc[:, ['binary_accuracy', 'val_binary_accuracy']].plot();"
   ]
  },
  {
   "cell_type": "markdown",
   "id": "80f5bbb6",
   "metadata": {
    "papermill": {
     "duration": 0.566922,
     "end_time": "2024-10-17T17:22:42.418757",
     "exception": false,
     "start_time": "2024-10-17T17:22:41.851835",
     "status": "completed"
    },
    "tags": []
   },
   "source": [
    "# 3) Train the Model #\n",
    "\n",
    "How would you interpret these training curves? Did this model improve upon the model from the tutorial?"
   ]
  },
  {
   "cell_type": "code",
   "execution_count": 9,
   "id": "3a9a095e",
   "metadata": {
    "execution": {
     "iopub.execute_input": "2024-10-17T17:22:43.234198Z",
     "iopub.status.busy": "2024-10-17T17:22:43.233758Z",
     "iopub.status.idle": "2024-10-17T17:22:43.246680Z",
     "shell.execute_reply": "2024-10-17T17:22:43.245164Z"
    },
    "lines_to_next_cell": 0,
    "papermill": {
     "duration": 0.424967,
     "end_time": "2024-10-17T17:22:43.249427",
     "exception": false,
     "start_time": "2024-10-17T17:22:42.824460",
     "status": "completed"
    },
    "tags": []
   },
   "outputs": [
    {
     "data": {
      "application/javascript": [
       "parent.postMessage({\"jupyterEvent\": \"custom.exercise_interaction\", \"data\": {\"outcomeType\": 1, \"valueTowardsCompletion\": 0.3333333333333333, \"interactionType\": 1, \"questionType\": 4, \"questionId\": \"3_Q3\", \"learnToolsVersion\": \"0.3.4\", \"failureMessage\": \"\", \"exceptionClass\": \"\", \"trace\": \"\"}}, \"*\")"
      ],
      "text/plain": [
       "<IPython.core.display.Javascript object>"
      ]
     },
     "metadata": {},
     "output_type": "display_data"
    },
    {
     "data": {
      "text/markdown": [
       "<span style=\"color:#33cc33\">Correct:</span> \n",
       "\n",
       "\n",
       "The learning curves for the model from the tutorial diverged fairly rapidly. This would indicate that it was prone to overfitting and in need of some regularization. The additional layer in our new model would make it even more prone to overfitting. However, adding some regularization with the `Dropout` layer helped prevent this. These changes improved the validation accuracy of the model by several points.\n"
      ],
      "text/plain": [
       "Correct: \n",
       "\n",
       "\n",
       "The learning curves for the model from the tutorial diverged fairly rapidly. This would indicate that it was prone to overfitting and in need of some regularization. The additional layer in our new model would make it even more prone to overfitting. However, adding some regularization with the `Dropout` layer helped prevent this. These changes improved the validation accuracy of the model by several points."
      ]
     },
     "metadata": {},
     "output_type": "display_data"
    }
   ],
   "source": [
    "# View the solution (Run this code cell to receive credit!)\n",
    "q_3.check()"
   ]
  },
  {
   "cell_type": "markdown",
   "id": "ac5630d4",
   "metadata": {
    "papermill": {
     "duration": 0.394908,
     "end_time": "2024-10-17T17:22:44.045249",
     "exception": false,
     "start_time": "2024-10-17T17:22:43.650341",
     "status": "completed"
    },
    "tags": []
   },
   "source": [
    "# Conclusion #\n",
    "\n",
    "These exercises showed you how to design a custom convolutional network to solve a specific classification problem. Though most models these days will be built on top of a pretrained base, it certain circumstances a smaller custom convnet might still be preferable -- such as with a smaller or unusual dataset or when computing resources are very limited. As you saw here, for certain problems they can perform just as well as a pretrained model.\n",
    "\n",
    "# Keep Going #\n",
    "\n",
    "Continue on to [**Lesson 6**](https://www.kaggle.com/ryanholbrook/data-augmentation), where you'll learn a widely-used technique that can give a boost to your training data: **data augmentation**."
   ]
  },
  {
   "cell_type": "markdown",
   "id": "86fe9e7c",
   "metadata": {
    "papermill": {
     "duration": 0.403416,
     "end_time": "2024-10-17T17:22:44.865490",
     "exception": false,
     "start_time": "2024-10-17T17:22:44.462074",
     "status": "completed"
    },
    "tags": []
   },
   "source": [
    "---\n",
    "\n",
    "\n",
    "\n",
    "\n",
    "*Have questions or comments? Visit the [course discussion forum](https://www.kaggle.com/learn/computer-vision/discussion) to chat with other learners.*"
   ]
  }
 ],
 "metadata": {
  "jupytext": {
   "formats": "md,ipynb"
  },
  "kaggle": {
   "accelerator": "gpu",
   "dataSources": [
    {
     "datasetId": 708136,
     "sourceId": 1338830,
     "sourceType": "datasetVersion"
    },
    {
     "datasetId": 701538,
     "sourceId": 1363948,
     "sourceType": "datasetVersion"
    },
    {
     "datasetId": 878523,
     "sourceId": 1495782,
     "sourceType": "datasetVersion"
    }
   ],
   "dockerImageVersionId": 30648,
   "isGpuEnabled": true,
   "isInternetEnabled": false,
   "language": "python",
   "sourceType": "notebook"
  },
  "kernelspec": {
   "display_name": "Python 3",
   "language": "python",
   "name": "python3"
  },
  "language_info": {
   "codemirror_mode": {
    "name": "ipython",
    "version": 3
   },
   "file_extension": ".py",
   "mimetype": "text/x-python",
   "name": "python",
   "nbconvert_exporter": "python",
   "pygments_lexer": "ipython3",
   "version": "3.10.13"
  },
  "papermill": {
   "default_parameters": {},
   "duration": 9482.299942,
   "end_time": "2024-10-17T17:22:48.309835",
   "environment_variables": {},
   "exception": null,
   "input_path": "__notebook__.ipynb",
   "output_path": "__notebook__.ipynb",
   "parameters": {},
   "start_time": "2024-10-17T14:44:46.009893",
   "version": "2.5.0"
  }
 },
 "nbformat": 4,
 "nbformat_minor": 5
}
